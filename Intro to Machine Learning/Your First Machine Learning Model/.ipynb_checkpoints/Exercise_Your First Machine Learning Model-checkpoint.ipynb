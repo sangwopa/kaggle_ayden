{
 "cells": [
  {
   "cell_type": "markdown",
   "id": "39c02442",
   "metadata": {},
   "source": [
    "Step 1: Specify Prediction Target"
   ]
  },
  {
   "cell_type": "code",
   "execution_count": null,
   "id": "f4d78bee",
   "metadata": {},
   "outputs": [],
   "source": [
    "# Code you have previously used to load data\n",
    "import pandas as pd\n",
    "\n",
    "# Path of the file to read\n",
    "iowa_file_path = '../input/home-data-for-ml-course/train.csv'\n",
    "\n",
    "home_data = pd.read_csv(iowa_file_path)"
   ]
  },
  {
   "cell_type": "code",
   "execution_count": null,
   "id": "f5d16aee",
   "metadata": {},
   "outputs": [],
   "source": [
    "# print the list of columns in the dataset to find the name of the prediction target\n",
    "home_data.columns"
   ]
  },
  {
   "cell_type": "code",
   "execution_count": null,
   "id": "8bc4764b",
   "metadata": {},
   "outputs": [],
   "source": [
    "y = home_data.SalePrice"
   ]
  },
  {
   "cell_type": "markdown",
   "id": "aca88aae",
   "metadata": {},
   "source": [
    "Step 2: Create X"
   ]
  },
  {
   "cell_type": "code",
   "execution_count": null,
   "id": "1062045a",
   "metadata": {},
   "outputs": [],
   "source": [
    "# Create the list of features below\n",
    "feature_names = ['LotArea', 'YearBuilt', '1stFlrSF', '2ndFlrSF', 'FullBath', 'BedroomAbvGr', 'TotRmsAbvGrd']\n",
    "\n",
    "# Select data corresponding to features in feature_names\n",
    "X = home_data[feature_names]"
   ]
  },
  {
   "cell_type": "markdown",
   "id": "8a5e6052",
   "metadata": {},
   "source": [
    "Review Data"
   ]
  },
  {
   "cell_type": "code",
   "execution_count": null,
   "id": "4ddd5a84",
   "metadata": {},
   "outputs": [],
   "source": [
    "X.describe() #print description or statistics from X"
   ]
  },
  {
   "cell_type": "code",
   "execution_count": null,
   "id": "6b138882",
   "metadata": {},
   "outputs": [],
   "source": [
    "X.head() # print the top few lines"
   ]
  },
  {
   "cell_type": "markdown",
   "id": "9b48c485",
   "metadata": {},
   "source": [
    "Step 3: Specify and Fit Model"
   ]
  },
  {
   "cell_type": "code",
   "execution_count": null,
   "id": "fc5628f7",
   "metadata": {},
   "outputs": [],
   "source": [
    "from sklearn.tree import DecisionTreeRegressor\n",
    "#specify the model. \n",
    "#For model reproducibility, set a numeric value for random_state when specifying the model\n",
    "iowa_model = DecisionTreeRegressor(random_state=1)\n",
    "\n",
    "# Fit the model\n",
    "iowa_model.fit(X, y)"
   ]
  },
  {
   "cell_type": "markdown",
   "id": "cc686083",
   "metadata": {},
   "source": [
    "Step 4: Make Predictions"
   ]
  },
  {
   "cell_type": "code",
   "execution_count": null,
   "id": "4590c518",
   "metadata": {},
   "outputs": [],
   "source": [
    "predictions = iowa_model.predict(X)\n",
    "print(predictions)"
   ]
  }
 ],
 "metadata": {
  "kernelspec": {
   "display_name": "Python 3",
   "language": "python",
   "name": "python3"
  },
  "language_info": {
   "codemirror_mode": {
    "name": "ipython",
    "version": 3
   },
   "file_extension": ".py",
   "mimetype": "text/x-python",
   "name": "python",
   "nbconvert_exporter": "python",
   "pygments_lexer": "ipython3",
   "version": "3.8.8"
  }
 },
 "nbformat": 4,
 "nbformat_minor": 5
}
