{
 "cells": [
  {
   "cell_type": "markdown",
   "id": "9fb9b1cd",
   "metadata": {},
   "source": [
    "Data Leakage"
   ]
  },
  {
   "cell_type": "markdown",
   "id": "b488cd4c",
   "metadata": {},
   "source": [
    "1. Target leakage"
   ]
  },
  {
   "cell_type": "markdown",
   "id": "b514f6b0",
   "metadata": {},
   "source": [
    "Target leakage occurs when your predictors include data that will not be available at the time you make predictions."
   ]
  },
  {
   "cell_type": "markdown",
   "id": "9b657026",
   "metadata": {},
   "source": [
    "2. Train-Test Contamination"
   ]
  },
  {
   "cell_type": "markdown",
   "id": "2b54c480",
   "metadata": {},
   "source": [
    "A different type of leak occurs when you aren't careful to distinguish training data from validation data."
   ]
  },
  {
   "cell_type": "code",
   "execution_count": null,
   "id": "89e6dfde",
   "metadata": {},
   "outputs": [],
   "source": []
  }
 ],
 "metadata": {
  "kernelspec": {
   "display_name": "Python 3",
   "language": "python",
   "name": "python3"
  },
  "language_info": {
   "codemirror_mode": {
    "name": "ipython",
    "version": 3
   },
   "file_extension": ".py",
   "mimetype": "text/x-python",
   "name": "python",
   "nbconvert_exporter": "python",
   "pygments_lexer": "ipython3",
   "version": "3.8.8"
  }
 },
 "nbformat": 4,
 "nbformat_minor": 5
}
