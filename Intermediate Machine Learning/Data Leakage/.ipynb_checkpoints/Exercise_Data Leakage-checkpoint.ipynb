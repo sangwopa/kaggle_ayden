{
 "cells": [
  {
   "cell_type": "markdown",
   "id": "47d1f1f6",
   "metadata": {},
   "source": [
    "Exercise: Data Leakage"
   ]
  },
  {
   "cell_type": "markdown",
   "id": "e2dfcc4a",
   "metadata": {},
   "source": [
    "Step 1: The Data Science of Shoelaces"
   ]
  },
  {
   "cell_type": "code",
   "execution_count": 1,
   "id": "4d62db19",
   "metadata": {},
   "outputs": [
    {
     "data": {
      "text/plain": [
       "'\\nfeatures\\nThe current month (January, February, etc)\\nAdvertising expenditures in the previous month\\nVarious macroeconomic features (like the unemployment rate) as of the beginning of the current month\\nThe amount of leather they ended up using in the current month\\n'"
      ]
     },
     "execution_count": 1,
     "metadata": {},
     "output_type": "execute_result"
    }
   ],
   "source": [
    "'''\n",
    "features\n",
    "The current month (January, February, etc)\n",
    "Advertising expenditures in the previous month\n",
    "Various macroeconomic features (like the unemployment rate) as of the beginning of the current month\n",
    "The amount of leather they ended up using in the current month\n",
    "'''"
   ]
  },
  {
   "cell_type": "markdown",
   "id": "7497f7b5",
   "metadata": {},
   "source": [
    "Step 2: Return of the Shoelaces"
   ]
  },
  {
   "cell_type": "markdown",
   "id": "08405c20",
   "metadata": {},
   "source": [
    "it depends on whether they order shoelaces first or leather first"
   ]
  },
  {
   "cell_type": "markdown",
   "id": "3aea6d61",
   "metadata": {},
   "source": [
    "Step 3. Getting Rich With Cryptocurrencies?"
   ]
  },
  {
   "cell_type": "markdown",
   "id": "7ab6a2c0",
   "metadata": {},
   "source": [
    "Step 4: Preventing Infections"
   ]
  },
  {
   "cell_type": "markdown",
   "id": "0ae06255",
   "metadata": {},
   "source": [
    "Step 5: Housing Prices"
   ]
  },
  {
   "cell_type": "code",
   "execution_count": null,
   "id": "98604768",
   "metadata": {},
   "outputs": [],
   "source": [
    "# If a specific data can be changed, that data can occur data leakage."
   ]
  }
 ],
 "metadata": {
  "kernelspec": {
   "display_name": "Python 3",
   "language": "python",
   "name": "python3"
  },
  "language_info": {
   "codemirror_mode": {
    "name": "ipython",
    "version": 3
   },
   "file_extension": ".py",
   "mimetype": "text/x-python",
   "name": "python",
   "nbconvert_exporter": "python",
   "pygments_lexer": "ipython3",
   "version": "3.8.8"
  }
 },
 "nbformat": 4,
 "nbformat_minor": 5
}
